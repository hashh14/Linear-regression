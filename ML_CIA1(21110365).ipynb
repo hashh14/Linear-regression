{
 "cells": [
  {
   "cell_type": "markdown",
   "id": "daa5928b",
   "metadata": {},
   "source": [
    "# Importing the libraries"
   ]
  },
  {
   "cell_type": "code",
   "execution_count": 185,
   "id": "540af7b6",
   "metadata": {},
   "outputs": [],
   "source": [
    "import pandas as pd\n",
    "import numpy as np\n",
    "import random\n",
    "import matplotlib.pyplot as plt"
   ]
  },
  {
   "cell_type": "markdown",
   "id": "1105d74b",
   "metadata": {},
   "source": [
    "# Creating random values for x and y from 0 to 50"
   ]
  },
  {
   "cell_type": "code",
   "execution_count": 186,
   "id": "61b8ce69",
   "metadata": {},
   "outputs": [],
   "source": [
    "x=[]\n",
    "y=[]\n",
    "for i in range (0,1000):\n",
    "    number1 = random.randint(0,50)\n",
    "    x.append(number1)\n",
    "\n",
    "for i in range (0,1000):\n",
    "    number2 = random.randint(0,50)\n",
    "    y.append(number2)"
   ]
  },
  {
   "cell_type": "code",
   "execution_count": 187,
   "id": "14299a6a",
   "metadata": {},
   "outputs": [],
   "source": [
    "columns = {\"x\":x, \"y\":y}\n",
    "data = pd.DataFrame(columns)"
   ]
  },
  {
   "cell_type": "code",
   "execution_count": 188,
   "id": "d669f017",
   "metadata": {},
   "outputs": [
    {
     "data": {
      "text/html": [
       "<div>\n",
       "<style scoped>\n",
       "    .dataframe tbody tr th:only-of-type {\n",
       "        vertical-align: middle;\n",
       "    }\n",
       "\n",
       "    .dataframe tbody tr th {\n",
       "        vertical-align: top;\n",
       "    }\n",
       "\n",
       "    .dataframe thead th {\n",
       "        text-align: right;\n",
       "    }\n",
       "</style>\n",
       "<table border=\"1\" class=\"dataframe\">\n",
       "  <thead>\n",
       "    <tr style=\"text-align: right;\">\n",
       "      <th></th>\n",
       "      <th>x</th>\n",
       "      <th>y</th>\n",
       "    </tr>\n",
       "  </thead>\n",
       "  <tbody>\n",
       "    <tr>\n",
       "      <th>0</th>\n",
       "      <td>13</td>\n",
       "      <td>42</td>\n",
       "    </tr>\n",
       "    <tr>\n",
       "      <th>1</th>\n",
       "      <td>43</td>\n",
       "      <td>12</td>\n",
       "    </tr>\n",
       "    <tr>\n",
       "      <th>2</th>\n",
       "      <td>37</td>\n",
       "      <td>13</td>\n",
       "    </tr>\n",
       "    <tr>\n",
       "      <th>3</th>\n",
       "      <td>30</td>\n",
       "      <td>9</td>\n",
       "    </tr>\n",
       "    <tr>\n",
       "      <th>4</th>\n",
       "      <td>39</td>\n",
       "      <td>32</td>\n",
       "    </tr>\n",
       "    <tr>\n",
       "      <th>...</th>\n",
       "      <td>...</td>\n",
       "      <td>...</td>\n",
       "    </tr>\n",
       "    <tr>\n",
       "      <th>995</th>\n",
       "      <td>37</td>\n",
       "      <td>37</td>\n",
       "    </tr>\n",
       "    <tr>\n",
       "      <th>996</th>\n",
       "      <td>8</td>\n",
       "      <td>40</td>\n",
       "    </tr>\n",
       "    <tr>\n",
       "      <th>997</th>\n",
       "      <td>10</td>\n",
       "      <td>31</td>\n",
       "    </tr>\n",
       "    <tr>\n",
       "      <th>998</th>\n",
       "      <td>46</td>\n",
       "      <td>19</td>\n",
       "    </tr>\n",
       "    <tr>\n",
       "      <th>999</th>\n",
       "      <td>47</td>\n",
       "      <td>35</td>\n",
       "    </tr>\n",
       "  </tbody>\n",
       "</table>\n",
       "<p>1000 rows × 2 columns</p>\n",
       "</div>"
      ],
      "text/plain": [
       "      x   y\n",
       "0    13  42\n",
       "1    43  12\n",
       "2    37  13\n",
       "3    30   9\n",
       "4    39  32\n",
       "..   ..  ..\n",
       "995  37  37\n",
       "996   8  40\n",
       "997  10  31\n",
       "998  46  19\n",
       "999  47  35\n",
       "\n",
       "[1000 rows x 2 columns]"
      ]
     },
     "execution_count": 188,
     "metadata": {},
     "output_type": "execute_result"
    }
   ],
   "source": [
    "data"
   ]
  },
  {
   "cell_type": "code",
   "execution_count": 189,
   "id": "4d971429",
   "metadata": {},
   "outputs": [],
   "source": [
    "x = data.iloc[:,0].values\n",
    "y = data.iloc[:,-1].values"
   ]
  },
  {
   "cell_type": "markdown",
   "id": "95bca619",
   "metadata": {},
   "source": [
    "# Creating test train split for linear regression model"
   ]
  },
  {
   "cell_type": "code",
   "execution_count": 190,
   "id": "32ff56bf",
   "metadata": {},
   "outputs": [],
   "source": [
    "train_size = int(0.7 * len(data))\n",
    "train_set = data[:train_size]\n",
    "test_set = data[train_size:]"
   ]
  },
  {
   "cell_type": "markdown",
   "id": "3cee1da3",
   "metadata": {},
   "source": [
    "# Splitting test and train values for x and y"
   ]
  },
  {
   "cell_type": "code",
   "execution_count": 191,
   "id": "00404f5e",
   "metadata": {},
   "outputs": [],
   "source": [
    "x_train = train_set['x'] # x is the name of the column\n",
    "x_test = test_set['x']\n",
    "y_train = train_set['y'] # y is the name of the column\n",
    "y_test = test_set['y']"
   ]
  },
  {
   "cell_type": "markdown",
   "id": "4b2d9cec",
   "metadata": {},
   "source": [
    "# Simple linear regression function"
   ]
  },
  {
   "cell_type": "code",
   "execution_count": 192,
   "id": "c2c86a19",
   "metadata": {},
   "outputs": [],
   "source": [
    "def simple_LR(inp,output):\n",
    "    Xi = inp\n",
    "    Yi = output\n",
    "    N = len(Xi)\n",
    "    \n",
    "    Yi_mean = Yi.mean()\n",
    "    Xi_mean = Xi.mean()\n",
    "        \n",
    "    S_YiXi = (Yi*Xi).sum()\n",
    "    Yi_Xi_ByN = (Yi.sum() * Xi.sum()) / N\n",
    "    \n",
    "    S_XiXi = (Xi*Xi).sum()\n",
    "    XiXi_ByN = (Xi.sum() * Xi.sum()) / N\n",
    "    \n",
    "    slope = (S_YiXi - Yi_Xi_ByN) / (S_XiXi - XiXi_ByN)\n",
    "    \n",
    "    intercept = Yi_mean - slope * Xi_mean\n",
    "    \n",
    "    return (intercept,slope)"
   ]
  },
  {
   "cell_type": "markdown",
   "id": "fdebace1",
   "metadata": {},
   "source": [
    "# Slope and intercept of training data"
   ]
  },
  {
   "cell_type": "code",
   "execution_count": 193,
   "id": "06827a8e",
   "metadata": {},
   "outputs": [
    {
     "name": "stdout",
     "output_type": "stream",
     "text": [
      "Slope =  -0.028980652657009432\n",
      "Intercept =  26.089693347066365\n"
     ]
    }
   ],
   "source": [
    "train_intercept , train_slope = simple_LR(x_train,y_train)\n",
    "\n",
    "print (\"Slope = \",train_slope)\n",
    "print (\"Intercept = \",train_intercept)"
   ]
  },
  {
   "cell_type": "markdown",
   "id": "138098ca",
   "metadata": {},
   "source": [
    "# Prediction using the model"
   ]
  },
  {
   "cell_type": "code",
   "execution_count": 194,
   "id": "3b8f75df",
   "metadata": {},
   "outputs": [],
   "source": [
    "def regpred(inp,intercept,slope):\n",
    "    predicted_values = inp*slope + intercept\n",
    "    \n",
    "    return predicted_values"
   ]
  },
  {
   "cell_type": "code",
   "execution_count": 195,
   "id": "e44013f2",
   "metadata": {},
   "outputs": [
    {
     "name": "stdout",
     "output_type": "stream",
     "text": [
      "Estimated Value of Y : 25.654983557211224\n"
     ]
    }
   ],
   "source": [
    "#Predicting for a random test point\n",
    "test_point = 15\n",
    "\n",
    "est_point = regpred(test_point,train_intercept,train_slope)\n",
    "print (\"Estimated Value of Y :\",est_point)"
   ]
  },
  {
   "cell_type": "markdown",
   "id": "43946db9",
   "metadata": {},
   "source": [
    "# Gradient descent to find slope and intercept"
   ]
  },
  {
   "cell_type": "code",
   "execution_count": 196,
   "id": "b11192e4",
   "metadata": {},
   "outputs": [
    {
     "name": "stdout",
     "output_type": "stream",
     "text": [
      "Slope =  -0.02624704191527445 \n",
      "Intercept = : 26.14611113185692\n"
     ]
    }
   ],
   "source": [
    "m=c=0\n",
    "rate=0.0001\n",
    "\n",
    "for i in range(100000): \n",
    "    y_pred=m*x+c\n",
    "    deriv_m=(-2/1000)*sum(x*(y-y_pred))\n",
    "    deriv_c=(-2/1000)*sum(y-y_pred)\n",
    "    m=m-rate*deriv_m\n",
    "    c=c-rate*deriv_c    \n",
    "print(\"Slope = \",m,\"\\nIntercept = :\",c)"
   ]
  },
  {
   "cell_type": "markdown",
   "id": "70ac1d60",
   "metadata": {},
   "source": [
    "# Slope and intercept using sklearn"
   ]
  },
  {
   "cell_type": "code",
   "execution_count": 197,
   "id": "7564b0ff",
   "metadata": {},
   "outputs": [],
   "source": [
    "from sklearn.model_selection import train_test_split\n",
    "X=[]\n",
    "j=0\n",
    "for i in x:\n",
    "    X.append([])\n",
    "    X[j].append(i)\n",
    "    j=j+1\n",
    "Y=[]\n",
    "j=0\n",
    "for i in y:\n",
    "    Y.append([])\n",
    "    Y[j].append(i)\n",
    "    j=j+1\n",
    "x_train,x_test,y_train,y_test = train_test_split(X,Y,test_size=0.30,\n",
    "                                                random_state=420)"
   ]
  },
  {
   "cell_type": "code",
   "execution_count": 198,
   "id": "5467f90b",
   "metadata": {},
   "outputs": [
    {
     "data": {
      "text/plain": [
       "LinearRegression()"
      ]
     },
     "execution_count": 198,
     "metadata": {},
     "output_type": "execute_result"
    }
   ],
   "source": [
    "from sklearn.linear_model import LinearRegression\n",
    "reg = LinearRegression()\n",
    "\n",
    "reg.fit(x_train,y_train)"
   ]
  },
  {
   "cell_type": "code",
   "execution_count": 199,
   "id": "bb439282",
   "metadata": {},
   "outputs": [
    {
     "name": "stdout",
     "output_type": "stream",
     "text": [
      "Slope =  -0.008871011791883841 \n",
      "Intercept =  25.50514163549141\n"
     ]
    }
   ],
   "source": [
    "m=reg.coef_\n",
    "c=reg.intercept_\n",
    "print(\"Slope = \",m[0][0],\"\\nIntercept = \",c[0])"
   ]
  },
  {
   "cell_type": "code",
   "execution_count": null,
   "id": "6db36b52",
   "metadata": {},
   "outputs": [],
   "source": []
  },
  {
   "cell_type": "code",
   "execution_count": null,
   "id": "73c33678",
   "metadata": {},
   "outputs": [],
   "source": []
  },
  {
   "cell_type": "code",
   "execution_count": null,
   "id": "cd37c04f",
   "metadata": {},
   "outputs": [],
   "source": []
  },
  {
   "cell_type": "code",
   "execution_count": null,
   "id": "95e6f8ba",
   "metadata": {},
   "outputs": [],
   "source": []
  }
 ],
 "metadata": {
  "kernelspec": {
   "display_name": "Python 3 (ipykernel)",
   "language": "python",
   "name": "python3"
  },
  "language_info": {
   "codemirror_mode": {
    "name": "ipython",
    "version": 3
   },
   "file_extension": ".py",
   "mimetype": "text/x-python",
   "name": "python",
   "nbconvert_exporter": "python",
   "pygments_lexer": "ipython3",
   "version": "3.9.7"
  }
 },
 "nbformat": 4,
 "nbformat_minor": 5
}
