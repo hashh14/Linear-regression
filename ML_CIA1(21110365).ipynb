{
 "cells": [
  {
   "cell_type": "markdown",
   "id": "ee62faa0",
   "metadata": {},
   "source": [
    "# Importing the libraries"
   ]
  },
  {
   "cell_type": "code",
   "execution_count": 223,
   "id": "b1bcaf6f",
   "metadata": {},
   "outputs": [],
   "source": [
    "import pandas as pd\n",
    "import numpy as np\n",
    "import random\n",
    "import matplotlib.pyplot as plt"
   ]
  },
  {
   "cell_type": "markdown",
   "id": "7eec7ece",
   "metadata": {},
   "source": [
    "# Creating random values for x and y from 0 to 50"
   ]
  },
  {
   "cell_type": "code",
   "execution_count": 224,
   "id": "e9df3d0e",
   "metadata": {},
   "outputs": [],
   "source": [
    "x=[]\n",
    "y=[]\n",
    "for i in range (0,1000):\n",
    "    number1 = random.randint(0,50)\n",
    "    x.append(number1)\n",
    "\n",
    "for i in range (0,1000):\n",
    "    number2 = random.randint(0,50)\n",
    "    y.append(number2)"
   ]
  },
  {
   "cell_type": "code",
   "execution_count": 225,
   "id": "66c4b666",
   "metadata": {},
   "outputs": [],
   "source": [
    "columns = {\"x\":x, \"y\":y}\n",
    "data = pd.DataFrame(columns)"
   ]
  },
  {
   "cell_type": "code",
   "execution_count": 226,
   "id": "d63f18f8",
   "metadata": {},
   "outputs": [
    {
     "data": {
      "text/html": [
       "<div>\n",
       "<style scoped>\n",
       "    .dataframe tbody tr th:only-of-type {\n",
       "        vertical-align: middle;\n",
       "    }\n",
       "\n",
       "    .dataframe tbody tr th {\n",
       "        vertical-align: top;\n",
       "    }\n",
       "\n",
       "    .dataframe thead th {\n",
       "        text-align: right;\n",
       "    }\n",
       "</style>\n",
       "<table border=\"1\" class=\"dataframe\">\n",
       "  <thead>\n",
       "    <tr style=\"text-align: right;\">\n",
       "      <th></th>\n",
       "      <th>x</th>\n",
       "      <th>y</th>\n",
       "    </tr>\n",
       "  </thead>\n",
       "  <tbody>\n",
       "    <tr>\n",
       "      <th>0</th>\n",
       "      <td>30</td>\n",
       "      <td>4</td>\n",
       "    </tr>\n",
       "    <tr>\n",
       "      <th>1</th>\n",
       "      <td>32</td>\n",
       "      <td>7</td>\n",
       "    </tr>\n",
       "    <tr>\n",
       "      <th>2</th>\n",
       "      <td>47</td>\n",
       "      <td>26</td>\n",
       "    </tr>\n",
       "    <tr>\n",
       "      <th>3</th>\n",
       "      <td>16</td>\n",
       "      <td>39</td>\n",
       "    </tr>\n",
       "    <tr>\n",
       "      <th>4</th>\n",
       "      <td>16</td>\n",
       "      <td>17</td>\n",
       "    </tr>\n",
       "    <tr>\n",
       "      <th>...</th>\n",
       "      <td>...</td>\n",
       "      <td>...</td>\n",
       "    </tr>\n",
       "    <tr>\n",
       "      <th>995</th>\n",
       "      <td>8</td>\n",
       "      <td>47</td>\n",
       "    </tr>\n",
       "    <tr>\n",
       "      <th>996</th>\n",
       "      <td>46</td>\n",
       "      <td>12</td>\n",
       "    </tr>\n",
       "    <tr>\n",
       "      <th>997</th>\n",
       "      <td>33</td>\n",
       "      <td>28</td>\n",
       "    </tr>\n",
       "    <tr>\n",
       "      <th>998</th>\n",
       "      <td>23</td>\n",
       "      <td>18</td>\n",
       "    </tr>\n",
       "    <tr>\n",
       "      <th>999</th>\n",
       "      <td>24</td>\n",
       "      <td>47</td>\n",
       "    </tr>\n",
       "  </tbody>\n",
       "</table>\n",
       "<p>1000 rows × 2 columns</p>\n",
       "</div>"
      ],
      "text/plain": [
       "      x   y\n",
       "0    30   4\n",
       "1    32   7\n",
       "2    47  26\n",
       "3    16  39\n",
       "4    16  17\n",
       "..   ..  ..\n",
       "995   8  47\n",
       "996  46  12\n",
       "997  33  28\n",
       "998  23  18\n",
       "999  24  47\n",
       "\n",
       "[1000 rows x 2 columns]"
      ]
     },
     "execution_count": 226,
     "metadata": {},
     "output_type": "execute_result"
    }
   ],
   "source": [
    "data"
   ]
  },
  {
   "cell_type": "code",
   "execution_count": 227,
   "id": "3e727e55",
   "metadata": {},
   "outputs": [],
   "source": [
    "x = data.iloc[:,0].values\n",
    "y = data.iloc[:,-1].values"
   ]
  },
  {
   "cell_type": "markdown",
   "id": "66c45356",
   "metadata": {},
   "source": [
    "# Creating test train split for linear regression model"
   ]
  },
  {
   "cell_type": "code",
   "execution_count": 228,
   "id": "7f4b4b59",
   "metadata": {},
   "outputs": [],
   "source": [
    "train_size = int(0.7 * len(data))\n",
    "train_set = data[:train_size]\n",
    "test_set = data[train_size:]"
   ]
  },
  {
   "cell_type": "markdown",
   "id": "0158b370",
   "metadata": {},
   "source": [
    "# Splitting test and train values for x and y"
   ]
  },
  {
   "cell_type": "code",
   "execution_count": 229,
   "id": "4f319684",
   "metadata": {},
   "outputs": [],
   "source": [
    "x_train = train_set['x'] # x is the name of the column\n",
    "x_test = test_set['x']\n",
    "y_train = train_set['y'] # y is the name of the column\n",
    "y_test = test_set['y']"
   ]
  },
  {
   "cell_type": "markdown",
   "id": "3ff4a4f5",
   "metadata": {},
   "source": [
    "# Simple linear regression function"
   ]
  },
  {
   "cell_type": "code",
   "execution_count": 230,
   "id": "e7784222",
   "metadata": {},
   "outputs": [],
   "source": [
    "def simple_LR(inp,output):\n",
    "    Xi = inp\n",
    "    Yi = output\n",
    "    N = len(Xi)\n",
    "    \n",
    "    Yi_mean = Yi.mean()\n",
    "    Xi_mean = Xi.mean()\n",
    "        \n",
    "    S_YiXi = (Yi*Xi).sum()\n",
    "    Yi_Xi_ByN = (Yi.sum() * Xi.sum()) / N\n",
    "    \n",
    "    S_XiXi = (Xi*Xi).sum()\n",
    "    XiXi_ByN = (Xi.sum() * Xi.sum()) / N\n",
    "    \n",
    "    slope = (S_YiXi - Yi_Xi_ByN) / (S_XiXi - XiXi_ByN)\n",
    "    \n",
    "    intercept = Yi_mean - slope * Xi_mean\n",
    "    \n",
    "    return (intercept,slope)"
   ]
  },
  {
   "cell_type": "markdown",
   "id": "e001355e",
   "metadata": {},
   "source": [
    "# Slope and intercept of training data"
   ]
  },
  {
   "cell_type": "code",
   "execution_count": 231,
   "id": "234d79af",
   "metadata": {},
   "outputs": [
    {
     "name": "stdout",
     "output_type": "stream",
     "text": [
      "Slope =  0.06618638346274501\n",
      "Intercept =  23.830807034221657\n"
     ]
    }
   ],
   "source": [
    "train_intercept , train_slope = simple_LR(x_train,y_train)\n",
    "y_pred1= train_slope*x+train_intercept\n",
    "print (\"Slope = \",train_slope)\n",
    "print (\"Intercept = \",train_intercept)"
   ]
  },
  {
   "cell_type": "markdown",
   "id": "a1242215",
   "metadata": {},
   "source": [
    "# Prediction using the model"
   ]
  },
  {
   "cell_type": "code",
   "execution_count": 232,
   "id": "34c26203",
   "metadata": {},
   "outputs": [],
   "source": [
    "def regpred(inp,intercept,slope):\n",
    "    predicted_values = inp*slope + intercept\n",
    "    \n",
    "    return predicted_values"
   ]
  },
  {
   "cell_type": "code",
   "execution_count": 233,
   "id": "92077ff1",
   "metadata": {},
   "outputs": [
    {
     "name": "stdout",
     "output_type": "stream",
     "text": [
      "Estimated Value of Y : 24.82360278616283\n"
     ]
    }
   ],
   "source": [
    "#Predicting for a random test point\n",
    "test_point = 15\n",
    "\n",
    "est_point = regpred(test_point,train_intercept,train_slope)\n",
    "print (\"Estimated Value of Y :\",est_point)"
   ]
  },
  {
   "cell_type": "markdown",
   "id": "3a2145a7",
   "metadata": {},
   "source": [
    "# Gradient descent to find slope and intercept"
   ]
  },
  {
   "cell_type": "code",
   "execution_count": 234,
   "id": "9b5f0789",
   "metadata": {},
   "outputs": [
    {
     "name": "stdout",
     "output_type": "stream",
     "text": [
      "Slope =  0.017771773646077085 \n",
      "Intercept = : 25.04009456210012\n"
     ]
    }
   ],
   "source": [
    "m=c=0\n",
    "rate=0.0001\n",
    "\n",
    "for i in range(100000): \n",
    "    y_pred=m*x+c\n",
    "    deriv_m=(-2/1000)*sum(x*(y-y_pred))\n",
    "    deriv_c=(-2/1000)*sum(y-y_pred)\n",
    "    m=m-rate*deriv_m\n",
    "    c=c-rate*deriv_c    \n",
    "print(\"Slope = \",m,\"\\nIntercept = :\",c)\n",
    "y_pred2 = m*x+c"
   ]
  },
  {
   "cell_type": "markdown",
   "id": "24420977",
   "metadata": {},
   "source": [
    "# Slope and intercept using sklearn"
   ]
  },
  {
   "cell_type": "code",
   "execution_count": 235,
   "id": "4df226dd",
   "metadata": {},
   "outputs": [],
   "source": [
    "from sklearn.model_selection import train_test_split\n",
    "X=[]\n",
    "j=0\n",
    "for i in x:\n",
    "    X.append([])\n",
    "    X[j].append(i)\n",
    "    j=j+1\n",
    "Y=[]\n",
    "j=0\n",
    "for i in y:\n",
    "    Y.append([])\n",
    "    Y[j].append(i)\n",
    "    j=j+1\n",
    "x_train,x_test,y_train,y_test = train_test_split(X,Y,test_size=0.30,\n",
    "                                                random_state=420)"
   ]
  },
  {
   "cell_type": "code",
   "execution_count": 236,
   "id": "8fd3c078",
   "metadata": {},
   "outputs": [
    {
     "data": {
      "text/plain": [
       "LinearRegression()"
      ]
     },
     "execution_count": 236,
     "metadata": {},
     "output_type": "execute_result"
    }
   ],
   "source": [
    "from sklearn.linear_model import LinearRegression\n",
    "reg = LinearRegression()\n",
    "\n",
    "reg.fit(x_train,y_train)"
   ]
  },
  {
   "cell_type": "code",
   "execution_count": 237,
   "id": "041b851f",
   "metadata": {},
   "outputs": [
    {
     "name": "stdout",
     "output_type": "stream",
     "text": [
      "Slope =  0.005864783127053398 \n",
      "Intercept =  25.261067554674963\n"
     ]
    }
   ],
   "source": [
    "m=reg.coef_\n",
    "c=reg.intercept_\n",
    "print(\"Slope = \",m[0][0],\"\\nIntercept = \",c[0])\n",
    "y_pred3 = m[0][0]*x+c[0]"
   ]
  },
  {
   "cell_type": "code",
   "execution_count": 238,
   "id": "5f09840b",
   "metadata": {},
   "outputs": [
    {
     "data": {
      "text/plain": [
       "[<matplotlib.lines.Line2D at 0x28e0d301b20>]"
      ]
     },
     "execution_count": 238,
     "metadata": {},
     "output_type": "execute_result"
    },
    {
     "data": {
      "image/png": "[encoded data removed]",
      "text/plain": [
       "<Figure size 432x288 with 1 Axes>"
      ]
     },
     "metadata": {
      "needs_background": "light"
     },
     "output_type": "display_data"
    }
   ],
   "source": [
    "plt.title(\"All 3 models\")\n",
    "plt.scatter(x,y)\n",
    "plt.plot(x,y_pred1,color=\"red\")\n",
    "plt.plot(x,y_pred2,color=\"black\")\n",
    "plt.plot(x,y_pred3,color=\"yellow\")"
   ]
  },
  {
   "cell_type": "code",
   "execution_count": null,
   "id": "b1376eb3",
   "metadata": {},
   "outputs": [],
   "source": []
  },
  {
   "cell_type": "code",
   "execution_count": null,
   "id": "754ee907",
   "metadata": {},
   "outputs": [],
   "source": []
  },
  {
   "cell_type": "code",
   "execution_count": null,
   "id": "cb9d736e",
   "metadata": {},
   "outputs": [],
   "source": []
  }
 ],
 "metadata": {
  "kernelspec": {
   "display_name": "Python 3 (ipykernel)",
   "language": "python",
   "name": "python3"
  },
  "language_info": {
   "codemirror_mode": {
    "name": "ipython",
    "version": 3
   },
   "file_extension": ".py",
   "mimetype": "text/x-python",
   "name": "python",
   "nbconvert_exporter": "python",
   "pygments_lexer": "ipython3",
   "version": "3.9.7"
  }
 },
 "nbformat": 4,
 "nbformat_minor": 5
}
