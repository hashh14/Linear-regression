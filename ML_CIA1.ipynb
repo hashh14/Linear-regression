{
 "cells": [
  {
   "cell_type": "markdown",
   "id": "924118ee",
   "metadata": {},
   "source": [
    "# Importing the libraries"
   ]
  },
  {
   "cell_type": "code",
   "execution_count": 170,
   "id": "5b7a1d72",
   "metadata": {},
   "outputs": [],
   "source": [
    "import pandas as pd\n",
    "import numpy as np\n",
    "import random\n",
    "import matplotlib.pyplot as plt"
   ]
  },
  {
   "cell_type": "markdown",
   "id": "0848dadd",
   "metadata": {},
   "source": [
    "# Creating random values for x and y from 0 to 50"
   ]
  },
  {
   "cell_type": "code",
   "execution_count": 171,
   "id": "8079dd26",
   "metadata": {},
   "outputs": [],
   "source": [
    "x=[]\n",
    "y=[]\n",
    "for i in range (0,1000):\n",
    "    number1 = random.randint(0,50)\n",
    "    x.append(number1)\n",
    "\n",
    "for i in range (0,1000):\n",
    "    number2 = random.randint(0,50)\n",
    "    y.append(number2)"
   ]
  },
  {
   "cell_type": "code",
   "execution_count": 172,
   "id": "5d0d02b5",
   "metadata": {},
   "outputs": [],
   "source": [
    "columns = {\"x\":x, \"y\":y}\n",
    "data = pd.DataFrame(columns)"
   ]
  },
  {
   "cell_type": "code",
   "execution_count": 173,
   "id": "48d4f2a2",
   "metadata": {},
   "outputs": [
    {
     "data": {
      "text/html": [
       "<div>\n",
       "<style scoped>\n",
       "    .dataframe tbody tr th:only-of-type {\n",
       "        vertical-align: middle;\n",
       "    }\n",
       "\n",
       "    .dataframe tbody tr th {\n",
       "        vertical-align: top;\n",
       "    }\n",
       "\n",
       "    .dataframe thead th {\n",
       "        text-align: right;\n",
       "    }\n",
       "</style>\n",
       "<table border=\"1\" class=\"dataframe\">\n",
       "  <thead>\n",
       "    <tr style=\"text-align: right;\">\n",
       "      <th></th>\n",
       "      <th>x</th>\n",
       "      <th>y</th>\n",
       "    </tr>\n",
       "  </thead>\n",
       "  <tbody>\n",
       "    <tr>\n",
       "      <th>0</th>\n",
       "      <td>26</td>\n",
       "      <td>1</td>\n",
       "    </tr>\n",
       "    <tr>\n",
       "      <th>1</th>\n",
       "      <td>45</td>\n",
       "      <td>34</td>\n",
       "    </tr>\n",
       "    <tr>\n",
       "      <th>2</th>\n",
       "      <td>6</td>\n",
       "      <td>36</td>\n",
       "    </tr>\n",
       "    <tr>\n",
       "      <th>3</th>\n",
       "      <td>26</td>\n",
       "      <td>9</td>\n",
       "    </tr>\n",
       "    <tr>\n",
       "      <th>4</th>\n",
       "      <td>29</td>\n",
       "      <td>30</td>\n",
       "    </tr>\n",
       "    <tr>\n",
       "      <th>...</th>\n",
       "      <td>...</td>\n",
       "      <td>...</td>\n",
       "    </tr>\n",
       "    <tr>\n",
       "      <th>995</th>\n",
       "      <td>4</td>\n",
       "      <td>26</td>\n",
       "    </tr>\n",
       "    <tr>\n",
       "      <th>996</th>\n",
       "      <td>29</td>\n",
       "      <td>29</td>\n",
       "    </tr>\n",
       "    <tr>\n",
       "      <th>997</th>\n",
       "      <td>50</td>\n",
       "      <td>38</td>\n",
       "    </tr>\n",
       "    <tr>\n",
       "      <th>998</th>\n",
       "      <td>49</td>\n",
       "      <td>13</td>\n",
       "    </tr>\n",
       "    <tr>\n",
       "      <th>999</th>\n",
       "      <td>39</td>\n",
       "      <td>43</td>\n",
       "    </tr>\n",
       "  </tbody>\n",
       "</table>\n",
       "<p>1000 rows × 2 columns</p>\n",
       "</div>"
      ],
      "text/plain": [
       "      x   y\n",
       "0    26   1\n",
       "1    45  34\n",
       "2     6  36\n",
       "3    26   9\n",
       "4    29  30\n",
       "..   ..  ..\n",
       "995   4  26\n",
       "996  29  29\n",
       "997  50  38\n",
       "998  49  13\n",
       "999  39  43\n",
       "\n",
       "[1000 rows x 2 columns]"
      ]
     },
     "execution_count": 173,
     "metadata": {},
     "output_type": "execute_result"
    }
   ],
   "source": [
    "data"
   ]
  },
  {
   "cell_type": "code",
   "execution_count": 174,
   "id": "e8eb5b2e",
   "metadata": {},
   "outputs": [],
   "source": [
    "x = data.iloc[:,0].values\n",
    "y = data.iloc[:,-1].values"
   ]
  },
  {
   "cell_type": "markdown",
   "id": "5f5f09d1",
   "metadata": {},
   "source": [
    "# Creating test train split for linear regression model"
   ]
  },
  {
   "cell_type": "code",
   "execution_count": 175,
   "id": "0877d2af",
   "metadata": {},
   "outputs": [],
   "source": [
    "train_size = int(0.7 * len(data))\n",
    "train_set = data[:train_size]\n",
    "test_set = data[train_size:]"
   ]
  },
  {
   "cell_type": "markdown",
   "id": "eae0ab69",
   "metadata": {},
   "source": [
    "# Splitting test and train values for x and y"
   ]
  },
  {
   "cell_type": "code",
   "execution_count": 176,
   "id": "8e8dafe8",
   "metadata": {},
   "outputs": [],
   "source": [
    "x_train = train_set['x'] # x is the name of the column\n",
    "x_test = test_set['x']\n",
    "y_train = train_set['y'] # y is the name of the column\n",
    "y_test = test_set['y']"
   ]
  },
  {
   "cell_type": "markdown",
   "id": "abd1db37",
   "metadata": {},
   "source": [
    "# Simple linear regression function"
   ]
  },
  {
   "cell_type": "code",
   "execution_count": 177,
   "id": "eb04d49f",
   "metadata": {},
   "outputs": [],
   "source": [
    "def simple_LR(inp,output):\n",
    "    Xi = inp\n",
    "    Yi = output\n",
    "    N = len(Xi)\n",
    "    \n",
    "    Yi_mean = Yi.mean()\n",
    "    Xi_mean = Xi.mean()\n",
    "        \n",
    "    S_YiXi = (Yi*Xi).sum()\n",
    "    Yi_Xi_ByN = (Yi.sum() * Xi.sum()) / N\n",
    "    \n",
    "    S_XiXi = (Xi*Xi).sum()\n",
    "    XiXi_ByN = (Xi.sum() * Xi.sum()) / N\n",
    "    \n",
    "    slope = (S_YiXi - Yi_Xi_ByN) / (S_XiXi - XiXi_ByN)\n",
    "    \n",
    "    intercept = Yi_mean - slope * Xi_mean\n",
    "    \n",
    "    return (intercept,slope)"
   ]
  },
  {
   "cell_type": "markdown",
   "id": "9d94f557",
   "metadata": {},
   "source": [
    "# Slope and intercept of training data"
   ]
  },
  {
   "cell_type": "code",
   "execution_count": 178,
   "id": "201ee097",
   "metadata": {},
   "outputs": [
    {
     "name": "stdout",
     "output_type": "stream",
     "text": [
      "Slope =  0.01459135443748284\n",
      "Intercept =  24.027403435882746\n"
     ]
    }
   ],
   "source": [
    "train_intercept , train_slope = simple_LR(x_train,y_train)\n",
    "\n",
    "print (\"Slope = \",train_slope)\n",
    "print (\"Intercept = \",train_intercept)"
   ]
  },
  {
   "cell_type": "markdown",
   "id": "508f59a1",
   "metadata": {},
   "source": [
    "# Prediction using the model"
   ]
  },
  {
   "cell_type": "code",
   "execution_count": 179,
   "id": "7219145e",
   "metadata": {},
   "outputs": [],
   "source": [
    "def regpred(inp,intercept,slope):\n",
    "    predicted_values = inp*slope + intercept\n",
    "    \n",
    "    return predicted_values"
   ]
  },
  {
   "cell_type": "code",
   "execution_count": 184,
   "id": "c44f40b1",
   "metadata": {},
   "outputs": [
    {
     "name": "stdout",
     "output_type": "stream",
     "text": [
      "Estimated Value of Y : 24.24627375244499\n"
     ]
    }
   ],
   "source": [
    "#Predicting for a random test point\n",
    "test_point = 15\n",
    "\n",
    "est_point = regpred(test_point,train_intercept,train_slope)\n",
    "print (\"Estimated Value of Y :\",est_point)"
   ]
  },
  {
   "cell_type": "markdown",
   "id": "d688cf34",
   "metadata": {},
   "source": [
    "# Gradient descent to find slope and intercept"
   ]
  },
  {
   "cell_type": "code",
   "execution_count": 149,
   "id": "a933dea5",
   "metadata": {},
   "outputs": [
    {
     "name": "stdout",
     "output_type": "stream",
     "text": [
      "Slope =  0.004146738935148756 \n",
      "Intercept = : 24.848123629687244\n"
     ]
    }
   ],
   "source": [
    "m=c=0\n",
    "rate=0.0001\n",
    "\n",
    "for i in range(100000): \n",
    "    y_pred=m*x+c\n",
    "    deriv_m=(-2/1000)*sum(x*(y-y_pred))\n",
    "    deriv_c=(-2/1000)*sum(y-y_pred)\n",
    "    m=m-rate*deriv_m\n",
    "    c=c-rate*deriv_c    \n",
    "print(\"Slope = \",m,\"\\nIntercept = :\",c)"
   ]
  },
  {
   "cell_type": "markdown",
   "id": "a2b97ecc",
   "metadata": {},
   "source": [
    "# Slope and intercept using sklearn"
   ]
  },
  {
   "cell_type": "code",
   "execution_count": 150,
   "id": "0f811f5c",
   "metadata": {},
   "outputs": [],
   "source": [
    "from sklearn.model_selection import train_test_split\n",
    "X=[]\n",
    "j=0\n",
    "for i in x:\n",
    "    X.append([])\n",
    "    X[j].append(i)\n",
    "    j=j+1\n",
    "Y=[]\n",
    "j=0\n",
    "for i in y:\n",
    "    Y.append([])\n",
    "    Y[j].append(i)\n",
    "    j=j+1\n",
    "x_train,x_test,y_train,y_test = train_test_split(X,Y,test_size=0.30,\n",
    "                                                random_state=420)"
   ]
  },
  {
   "cell_type": "code",
   "execution_count": 151,
   "id": "d1e5bd83",
   "metadata": {},
   "outputs": [
    {
     "data": {
      "text/plain": [
       "LinearRegression()"
      ]
     },
     "execution_count": 151,
     "metadata": {},
     "output_type": "execute_result"
    }
   ],
   "source": [
    "from sklearn.linear_model import LinearRegression\n",
    "reg = LinearRegression()\n",
    "\n",
    "reg.fit(x_train,y_train)"
   ]
  },
  {
   "cell_type": "code",
   "execution_count": 152,
   "id": "01cd5ff9",
   "metadata": {},
   "outputs": [
    {
     "name": "stdout",
     "output_type": "stream",
     "text": [
      "Slope =  -0.019498647249153015 \n",
      "Intercept =  25.47730704670267\n"
     ]
    }
   ],
   "source": [
    "m=reg.coef_\n",
    "c=reg.intercept_\n",
    "print(\"Slope = \",m[0][0],\"\\nIntercept = \",c[0])"
   ]
  },
  {
   "cell_type": "code",
   "execution_count": null,
   "id": "df2e3f0a",
   "metadata": {},
   "outputs": [],
   "source": []
  },
  {
   "cell_type": "code",
   "execution_count": null,
   "id": "90348c65",
   "metadata": {},
   "outputs": [],
   "source": []
  },
  {
   "cell_type": "code",
   "execution_count": null,
   "id": "d1a9215e",
   "metadata": {},
   "outputs": [],
   "source": []
  },
  {
   "cell_type": "code",
   "execution_count": null,
   "id": "5d2e7ee9",
   "metadata": {},
   "outputs": [],
   "source": []
  }
 ],
 "metadata": {
  "kernelspec": {
   "display_name": "Python 3 (ipykernel)",
   "language": "python",
   "name": "python3"
  },
  "language_info": {
   "codemirror_mode": {
    "name": "ipython",
    "version": 3
   },
   "file_extension": ".py",
   "mimetype": "text/x-python",
   "name": "python",
   "nbconvert_exporter": "python",
   "pygments_lexer": "ipython3",
   "version": "3.9.7"
  }
 },
 "nbformat": 4,
 "nbformat_minor": 5
}
